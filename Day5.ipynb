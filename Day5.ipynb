{
  "nbformat": 4,
  "nbformat_minor": 0,
  "metadata": {
    "colab": {
      "name": "Day5.ipynb",
      "provenance": [],
      "mount_file_id": "1re7xBzPfKl7wzvutws2D6F8FtEX6wI9n",
      "authorship_tag": "ABX9TyNBkCZRMQla62VM6AF79c9/",
      "include_colab_link": true
    },
    "kernelspec": {
      "name": "python3",
      "display_name": "Python 3"
    },
    "accelerator": "GPU"
  },
  "cells": [
    {
      "cell_type": "markdown",
      "metadata": {
        "id": "view-in-github",
        "colab_type": "text"
      },
      "source": [
        "<a href=\"https://colab.research.google.com/github/sergiusz28/dw_matrix_road_sign/blob/master/Day5.ipynb\" target=\"_parent\"><img src=\"https://colab.research.google.com/assets/colab-badge.svg\" alt=\"Open In Colab\"/></a>"
      ]
    },
    {
      "cell_type": "code",
      "metadata": {
        "id": "dX_E7-dILxyz",
        "colab_type": "code",
        "outputId": "ea2091d0-4b11-48d3-e07c-63d9ad8ae768",
        "colab": {
          "base_uri": "https://localhost:8080/",
          "height": 51
        }
      },
      "source": [
        "import pandas as pd\n",
        "import numpy as np\n",
        "\n",
        "import os\n",
        "import datetime\n",
        "\n",
        "import tensorflow as tf\n",
        "\n",
        "from tensorflow.keras.models import Sequential\n",
        "from tensorflow.keras.layers import Conv2D, MaxPool2D, Dense, Flatten, Dropout\n",
        "from tensorflow.keras.utils import to_categorical\n",
        "\n",
        "from sklearn.metrics import accuracy_score\n",
        "\n",
        "import matplotlib.pyplot as plt\n",
        "from skimage import color, exposure\n",
        "\n",
        "from hyperopt import hp, STATUS_OK, tpe, Trials, fmin\n",
        "\n",
        "%load_ext tensorboard"
      ],
      "execution_count": 17,
      "outputs": [
        {
          "output_type": "stream",
          "text": [
            "The tensorboard extension is already loaded. To reload it, use:\n",
            "  %reload_ext tensorboard\n"
          ],
          "name": "stdout"
        }
      ]
    },
    {
      "cell_type": "code",
      "metadata": {
        "id": "l25S5HmfOZik",
        "colab_type": "code",
        "colab": {
          "base_uri": "https://localhost:8080/",
          "height": 51
        },
        "outputId": "9ab2ade4-223a-4909-91ba-d60766fcaa8f"
      },
      "source": [
        "cd '/content/drive/My Drive/Colab Notebooks/dwmatrix/matrix_three/dw_matrix_road_sign'"
      ],
      "execution_count": 7,
      "outputs": [
        {
          "output_type": "stream",
          "text": [
            "/content/drive/My Drive/Colab Notebooks/dwmatrix/matrix_three/dw_matrix_road_sign\n",
            "ERROR! Session/line number was not unique in database. History logging moved to new session 66\n"
          ],
          "name": "stdout"
        }
      ]
    },
    {
      "cell_type": "code",
      "metadata": {
        "id": "PVra_4PYNE7a",
        "colab_type": "code",
        "outputId": "f85dfd03-0a05-4e05-dceb-260871305550",
        "colab": {
          "base_uri": "https://localhost:8080/",
          "height": 34
        }
      },
      "source": [
        "\n",
        "train = pd.read_pickle('data/train.p')\n",
        "test = pd.read_pickle('data/test.p')\n",
        "\n",
        "x_train, y_train = train['features'], train['labels']\n",
        "x_test, y_test = test['features'], test['labels']\n",
        "\n",
        "if y_train.ndim == 1: y_train = to_categorical(y_train)\n",
        "if y_test.ndim == 1: y_test = to_categorical(y_test)\n",
        "\n",
        "input_shape = x_train.shape[1:]\n",
        "num_classes = y_train.shape[1]"
      ],
      "execution_count": 8,
      "outputs": [
        {
          "output_type": "stream",
          "text": [
            "ERROR! Session/line number was not unique in database. History logging moved to new session 67\n"
          ],
          "name": "stdout"
        }
      ]
    },
    {
      "cell_type": "code",
      "metadata": {
        "id": "kKDhE3WdNKGX",
        "colab_type": "code",
        "colab": {}
      },
      "source": [
        "def train_model(model, x_train, y_train, params_fit={}):\n",
        "  model.compile(loss='categorical_crossentropy', optimizer='Adam', metrics=['accuracy'])\n",
        "  \n",
        "  logdir = os.path.join('logs', datetime.datetime.now().strftime('%Y%m%d-%H%M%sS'))\n",
        "  tensorboard_callback = tf.keras.callbacks.TensorBoard(logdir, histogram_freq=1)\n",
        "  \n",
        "  model.fit(x_train,\n",
        "            y_train,\n",
        "            batch_size=params_fit.get('batch_size', 128),\n",
        "            epochs=params_fit.get('epochs', 5),\n",
        "            verbose=params_fit.get('verbose', 1),\n",
        "            validation_data=params_fit.get('validation_data', (x_train, y_train)),\n",
        "            callbacks= [tensorboard_callback]\n",
        "            )\n",
        "  return model\n",
        "\n",
        "def predict(model_trained, x_test, y_test, scoring=accuracy_score):\n",
        "  y_test_norm = np.argmax(y_test, axis=1)\n",
        "  y_pred_prob = model_trained.predict(x_test)\n",
        "  y_pred = np.argmax(y_pred_prob, axis=1)\n",
        "  return scoring(y_test_norm, y_pred)"
      ],
      "execution_count": 0,
      "outputs": []
    },
    {
      "cell_type": "code",
      "metadata": {
        "id": "f2dXPnKnOjSy",
        "colab_type": "code",
        "colab": {}
      },
      "source": [
        "def get_cnn_v5(input_shape, num_classes):\n",
        "  return Sequential([\n",
        "    Conv2D(filters=32, kernel_size=(3,3), activation='relu', input_shape=input_shape),\n",
        "    Conv2D(filters=32, kernel_size=(3,3), activation='relu', padding='same'),\n",
        "    MaxPool2D(),\n",
        "    Dropout(0.3),\n",
        "\n",
        "    Conv2D(filters=64, kernel_size=(3,3), activation='relu', padding='same' ),\n",
        "    Conv2D(filters=64, kernel_size=(3,3), activation='relu'),\n",
        "    MaxPool2D(),\n",
        "    Dropout(0.3),\n",
        "    \n",
        "    Conv2D(filters=64, kernel_size=(3,3), activation='relu', padding='same'),\n",
        "    Conv2D(filters=64, kernel_size=(3,3), activation='relu'),\n",
        "    MaxPool2D(),\n",
        "    Dropout(0.3),\n",
        "    \n",
        "    Flatten(),\n",
        "    \n",
        "    Dense(1024, activation='relu'),\n",
        "    Dropout(0.3),\n",
        "\n",
        "    Dense(1024, activation='relu'),\n",
        "    Dropout(0.3),\n",
        "\n",
        "    Dense(num_classes, activation='softmax')\n",
        "  ])"
      ],
      "execution_count": 0,
      "outputs": []
    },
    {
      "cell_type": "code",
      "metadata": {
        "id": "4yq3bKhwPRoq",
        "colab_type": "code",
        "colab": {
          "base_uri": "https://localhost:8080/",
          "height": 204
        },
        "outputId": "bbd5e2d5-c9c3-4112-8428-23f471a75b63"
      },
      "source": [
        "model = get_cnn_v5(input_shape, num_classes)\n",
        "model_trained = train_model(model, x_train, y_train)\n",
        "\n",
        "predict(model_trained, x_test, y_test)"
      ],
      "execution_count": 15,
      "outputs": [
        {
          "output_type": "stream",
          "text": [
            "Epoch 1/5\n",
            "272/272 [==============================] - 4s 14ms/step - loss: 2.8402 - accuracy: 0.2404 - val_loss: 1.1463 - val_accuracy: 0.6359\n",
            "Epoch 2/5\n",
            "272/272 [==============================] - 4s 13ms/step - loss: 0.8709 - accuracy: 0.7209 - val_loss: 0.1953 - val_accuracy: 0.9393\n",
            "Epoch 3/5\n",
            "272/272 [==============================] - 4s 14ms/step - loss: 0.3486 - accuracy: 0.8926 - val_loss: 0.0840 - val_accuracy: 0.9760\n",
            "Epoch 4/5\n",
            "272/272 [==============================] - 4s 13ms/step - loss: 0.2144 - accuracy: 0.9361 - val_loss: 0.0405 - val_accuracy: 0.9882\n",
            "Epoch 5/5\n",
            "272/272 [==============================] - 4s 13ms/step - loss: 0.1760 - accuracy: 0.9492 - val_loss: 0.0271 - val_accuracy: 0.9926\n"
          ],
          "name": "stdout"
        },
        {
          "output_type": "execute_result",
          "data": {
            "text/plain": [
              "0.9682539682539683"
            ]
          },
          "metadata": {
            "tags": []
          },
          "execution_count": 15
        }
      ]
    },
    {
      "cell_type": "code",
      "metadata": {
        "id": "6HrSjlpQQy8V",
        "colab_type": "code",
        "colab": {
          "base_uri": "https://localhost:8080/",
          "height": 51
        },
        "outputId": "e2d8e350-aead-4cf4-8ecc-32b7a3dd2dad"
      },
      "source": [
        "model_trained.evaluate(x_test, y_test)[1]"
      ],
      "execution_count": 22,
      "outputs": [
        {
          "output_type": "stream",
          "text": [
            "138/138 [==============================] - 0s 3ms/step - loss: 0.1551 - accuracy: 0.9683\n"
          ],
          "name": "stdout"
        },
        {
          "output_type": "execute_result",
          "data": {
            "text/plain": [
              "0.9682539701461792"
            ]
          },
          "metadata": {
            "tags": []
          },
          "execution_count": 22
        }
      ]
    },
    {
      "cell_type": "code",
      "metadata": {
        "id": "WwocdU0JWEx5",
        "colab_type": "code",
        "colab": {}
      },
      "source": [
        "def get_model(params):\n",
        "  return Sequential([\n",
        "    Conv2D(filters=32, kernel_size=(3,3), activation='relu', input_shape=input_shape),\n",
        "    Conv2D(filters=32, kernel_size=(3,3), activation='relu', padding='same'),\n",
        "    Conv2D(filters=32, kernel_size=(3,3), activation='relu', padding='same'),\n",
        "    MaxPool2D(),\n",
        "    Dropout(params['dropout_cnn_block_one']),\n",
        "\n",
        "    Conv2D(filters=64, kernel_size=(3,3), activation='relu', padding='same' ),\n",
        "    Conv2D(filters=64, kernel_size=(3,3), activation='relu', padding='same' ),\n",
        "    Conv2D(filters=64, kernel_size=(3,3), activation='relu'),\n",
        "    MaxPool2D(),\n",
        "    Dropout(params['dropout_cnn_block_two']),\n",
        "    \n",
        "    Conv2D(filters=128, kernel_size=(3,3), activation='relu', padding='same'),\n",
        "    Conv2D(filters=128, kernel_size=(3,3), activation='relu', padding='same'),\n",
        "    Conv2D(filters=128, kernel_size=(3,3), activation='relu'),\n",
        "    MaxPool2D(),\n",
        "    Dropout(params['dropout_cnn_block_three']),\n",
        "    \n",
        "    Flatten(),\n",
        "    \n",
        "    Dense(1024, activation='relu'),\n",
        "    Dropout(params['dropout_dense_block_one']),\n",
        "\n",
        "    Dense(1024, activation='relu'),\n",
        "    Dropout(params['dropout_dense_block_two']),\n",
        "\n",
        "    Dense(num_classes, activation='softmax')\n",
        "  ])"
      ],
      "execution_count": 0,
      "outputs": []
    },
    {
      "cell_type": "code",
      "metadata": {
        "id": "5KJgaEGmPn-m",
        "colab_type": "code",
        "colab": {}
      },
      "source": [
        "def func_obj(params):\n",
        "  model = get_model(params)\n",
        "  model.compile(loss='categorical_crossentropy', optimizer='Adam', metrics=['accuracy'])\n",
        "  \n",
        "  logdir = os.path.join('logs', datetime.datetime.now().strftime('%Y%m%d-%H%M%sS'))\n",
        "  tensorboard_callback = tf.keras.callbacks.TensorBoard(logdir, histogram_freq=1)\n",
        "  \n",
        "  model.fit(x_train,\n",
        "            y_train,\n",
        "            batch_size=128,#int(params.get('batch_size', 128)),\n",
        "            epochs=5,\n",
        "            verbose=0\n",
        "            )\n",
        "  score = model.evaluate(x_test, y_test, verbose=0)\n",
        "  accuracy = score[1]\n",
        "  print(params, 'accuracy={}'.format(accuracy))\n",
        "  return {'loss':-accuracy, 'status': STATUS_OK, 'model': model}"
      ],
      "execution_count": 0,
      "outputs": []
    },
    {
      "cell_type": "code",
      "metadata": {
        "id": "bZijhK8jRt62",
        "colab_type": "code",
        "colab": {
          "base_uri": "https://localhost:8080/",
          "height": 1000
        },
        "outputId": "b0655cd5-b1a2-4a0a-b4fc-93d1d62e3718"
      },
      "source": [
        "space = {\n",
        "    'batch_size': hp.quniform('batch_size', 100, 200, 10),\n",
        "    \n",
        "    'dropout_cnn_block_one': hp.uniform('dropout_cnn_block_one', 0.3, 0.5),\n",
        "    'dropout_cnn_block_two': hp.uniform('dropout_cnn_block_two', 0.3, 0.5),\n",
        "    'dropout_cnn_block_three': hp.uniform('dropout_cnn_block_three', 0.3, 0.5),\n",
        "\n",
        "    'dropout_dense_block_one': hp.uniform('dropout_dense_block_one', 0.3, 0.7),\n",
        "    'dropout_dense_block_two': hp.uniform('dropout_dense_block_two',0.3, 0.7),\n",
        "}\n",
        "\n",
        "best = fmin(\n",
        "    func_obj,\n",
        "    space,\n",
        "    tpe.suggest,\n",
        "    30,\n",
        "    Trials()\n",
        ")"
      ],
      "execution_count": 40,
      "outputs": [
        {
          "output_type": "stream",
          "text": [
            "{'batch_size': 180.0, 'dropout_cnn_block_one': 0.305406329575419, 'dropout_cnn_block_three': 0.30369260452167773, 'dropout_cnn_block_two': 0.4938594477109193, 'dropout_dense_block_one': 0.6698802771064422, 'dropout_dense_block_two': 0.4492337501302737}\n",
            "accuracy=0.9204081892967224\n",
            "{'batch_size': 180.0, 'dropout_cnn_block_one': 0.35774013751374256, 'dropout_cnn_block_three': 0.4830246005688598, 'dropout_cnn_block_two': 0.43308906057569774, 'dropout_dense_block_one': 0.30920851170244573, 'dropout_dense_block_two': 0.6570597174723776}\n",
            "accuracy=0.9498866200447083\n",
            "{'batch_size': 180.0, 'dropout_cnn_block_one': 0.32339626000192423, 'dropout_cnn_block_three': 0.4099649079006216, 'dropout_cnn_block_two': 0.48012957167916276, 'dropout_dense_block_one': 0.5092430221906734, 'dropout_dense_block_two': 0.5896592582345731}\n",
            "accuracy=0.9514739513397217\n",
            "{'batch_size': 140.0, 'dropout_cnn_block_one': 0.3585693119842477, 'dropout_cnn_block_three': 0.47279503073290463, 'dropout_cnn_block_two': 0.3119303817065762, 'dropout_dense_block_one': 0.4705969130239608, 'dropout_dense_block_two': 0.507129290930363}\n",
            "accuracy=0.9709750413894653\n",
            "{'batch_size': 170.0, 'dropout_cnn_block_one': 0.32645016687227263, 'dropout_cnn_block_three': 0.48500227786956684, 'dropout_cnn_block_two': 0.3779473661330273, 'dropout_dense_block_one': 0.6794142201535595, 'dropout_dense_block_two': 0.44266950547293266}\n",
            "accuracy=0.9680272340774536\n",
            "{'batch_size': 140.0, 'dropout_cnn_block_one': 0.30392724007286875, 'dropout_cnn_block_three': 0.40741505283913393, 'dropout_cnn_block_two': 0.39726272997496365, 'dropout_dense_block_one': 0.5031935355719932, 'dropout_dense_block_two': 0.437344622037109}\n",
            "accuracy=0.9696145057678223\n",
            "{'batch_size': 200.0, 'dropout_cnn_block_one': 0.4838857257154967, 'dropout_cnn_block_three': 0.4978651649219502, 'dropout_cnn_block_two': 0.34458558515400106, 'dropout_dense_block_one': 0.6113174665162944, 'dropout_dense_block_two': 0.3615226277377288}\n",
            "accuracy=0.9473922848701477\n",
            "{'batch_size': 190.0, 'dropout_cnn_block_one': 0.4400811579648205, 'dropout_cnn_block_three': 0.32357724359999035, 'dropout_cnn_block_two': 0.36907578484806947, 'dropout_dense_block_one': 0.5984620401935206, 'dropout_dense_block_two': 0.5184364163933599}\n",
            "accuracy=0.9496598839759827\n",
            "{'batch_size': 150.0, 'dropout_cnn_block_one': 0.42314864227601023, 'dropout_cnn_block_three': 0.41171948460351404, 'dropout_cnn_block_two': 0.319900670899492, 'dropout_dense_block_one': 0.5147971154772595, 'dropout_dense_block_two': 0.6299210699653834}\n",
            "accuracy=0.94399094581604\n",
            "{'batch_size': 130.0, 'dropout_cnn_block_one': 0.30838759080916245, 'dropout_cnn_block_three': 0.3738363187936212, 'dropout_cnn_block_two': 0.3885366928274426, 'dropout_dense_block_one': 0.5232561417086132, 'dropout_dense_block_two': 0.5320650623221421}\n",
            "accuracy=0.9668934345245361\n",
            "{'batch_size': 180.0, 'dropout_cnn_block_one': 0.43520390147752686, 'dropout_cnn_block_three': 0.3382253444663343, 'dropout_cnn_block_two': 0.3802710642037097, 'dropout_dense_block_one': 0.46307244365249844, 'dropout_dense_block_two': 0.40258041646093556}\n",
            "accuracy=0.9773242473602295\n",
            "{'batch_size': 160.0, 'dropout_cnn_block_one': 0.49919544895044227, 'dropout_cnn_block_three': 0.3223165155414746, 'dropout_cnn_block_two': 0.3370517517067415, 'dropout_dense_block_one': 0.49120522107534026, 'dropout_dense_block_two': 0.3501252727426272}\n",
            "accuracy=0.9709750413894653\n",
            "{'batch_size': 150.0, 'dropout_cnn_block_one': 0.4014750713696187, 'dropout_cnn_block_three': 0.4585701523345052, 'dropout_cnn_block_two': 0.40607677005838166, 'dropout_dense_block_one': 0.4500889857846648, 'dropout_dense_block_two': 0.4715763214429936}\n",
            "accuracy=0.9541950225830078\n",
            "{'batch_size': 190.0, 'dropout_cnn_block_one': 0.43165033917571516, 'dropout_cnn_block_three': 0.4618027461735177, 'dropout_cnn_block_two': 0.49072950018851835, 'dropout_dense_block_one': 0.5787973988140849, 'dropout_dense_block_two': 0.6731542848781393}\n",
            "accuracy=0.8734694123268127\n",
            "{'batch_size': 130.0, 'dropout_cnn_block_one': 0.3685928398274774, 'dropout_cnn_block_three': 0.446469792115176, 'dropout_cnn_block_two': 0.42743538654124785, 'dropout_dense_block_one': 0.4465538190197036, 'dropout_dense_block_two': 0.6293438366436328}\n",
            "accuracy=0.9176870584487915\n",
            "{'batch_size': 110.0, 'dropout_cnn_block_one': 0.38828665922245836, 'dropout_cnn_block_three': 0.3780958427275639, 'dropout_cnn_block_two': 0.3902963649515606, 'dropout_dense_block_one': 0.39073502247414704, 'dropout_dense_block_two': 0.5631963455358765}\n",
            "accuracy=0.963718831539154\n",
            "{'batch_size': 130.0, 'dropout_cnn_block_one': 0.4083062689903765, 'dropout_cnn_block_three': 0.4211430969515334, 'dropout_cnn_block_two': 0.38140202332881157, 'dropout_dense_block_one': 0.4334803664896983, 'dropout_dense_block_two': 0.46476899821783724}\n",
            "accuracy=0.9634920358657837\n",
            "{'batch_size': 150.0, 'dropout_cnn_block_one': 0.331639418729253, 'dropout_cnn_block_three': 0.4249585047930623, 'dropout_cnn_block_two': 0.4748116082014039, 'dropout_dense_block_one': 0.35051588912036963, 'dropout_dense_block_two': 0.49047959659313967}\n",
            "accuracy=0.9589568972587585\n",
            "{'batch_size': 190.0, 'dropout_cnn_block_one': 0.46645753541530605, 'dropout_cnn_block_three': 0.31795346298224963, 'dropout_cnn_block_two': 0.4274493242363545, 'dropout_dense_block_one': 0.4995362641641995, 'dropout_dense_block_two': 0.6050004210661295}\n",
            "accuracy=0.9244897961616516\n",
            "{'batch_size': 100.0, 'dropout_cnn_block_one': 0.39603911003096803, 'dropout_cnn_block_three': 0.39932126609815943, 'dropout_cnn_block_two': 0.31648472528219496, 'dropout_dense_block_one': 0.3656083692692005, 'dropout_dense_block_two': 0.32439831388823454}\n",
            "accuracy=0.9598639607429504\n",
            "{'batch_size': 120.0, 'dropout_cnn_block_one': 0.4547447226337126, 'dropout_cnn_block_three': 0.347163958435798, 'dropout_cnn_block_two': 0.3000034091972362, 'dropout_dense_block_one': 0.556737865072185, 'dropout_dense_block_two': 0.4005543700063322}\n",
            "accuracy=0.9480725526809692\n",
            "{'batch_size': 160.0, 'dropout_cnn_block_one': 0.3590590177291796, 'dropout_cnn_block_three': 0.3558773741355718, 'dropout_cnn_block_two': 0.34748065941555206, 'dropout_dense_block_one': 0.4032511648607868, 'dropout_dense_block_two': 0.39174158220995675}\n",
            "accuracy=0.9743764400482178\n",
            "{'batch_size': 170.0, 'dropout_cnn_block_one': 0.3757807701191538, 'dropout_cnn_block_three': 0.35297872853975565, 'dropout_cnn_block_two': 0.35919743474506655, 'dropout_dense_block_one': 0.4061686980606557, 'dropout_dense_block_two': 0.30107056850831476}\n",
            "accuracy=0.9496598839759827\n",
            "{'batch_size': 160.0, 'dropout_cnn_block_one': 0.4179867522965379, 'dropout_cnn_block_three': 0.34977409150111216, 'dropout_cnn_block_two': 0.3446742680578033, 'dropout_dense_block_one': 0.30764892999461096, 'dropout_dense_block_two': 0.3931881276068165}\n",
            "accuracy=0.9607709646224976\n",
            "{'batch_size': 170.0, 'dropout_cnn_block_one': 0.3448292687027365, 'dropout_cnn_block_three': 0.3743438127956296, 'dropout_cnn_block_two': 0.4126901992036265, 'dropout_dense_block_one': 0.4038418811804039, 'dropout_dense_block_two': 0.40341189315832926}\n",
            "accuracy=0.9537414908409119\n",
            "{'batch_size': 200.0, 'dropout_cnn_block_one': 0.44662783264346984, 'dropout_cnn_block_three': 0.30293580223008937, 'dropout_cnn_block_two': 0.44998100157598564, 'dropout_dense_block_one': 0.3403405171609606, 'dropout_dense_block_two': 0.3657314513654192}\n",
            "accuracy=0.9707483053207397\n",
            "{'batch_size': 160.0, 'dropout_cnn_block_one': 0.46770328857873217, 'dropout_cnn_block_three': 0.3610829421752888, 'dropout_cnn_block_two': 0.3647045264624814, 'dropout_dense_block_one': 0.421596696444429, 'dropout_dense_block_two': 0.30094406253948003}\n",
            "accuracy=0.9634920358657837\n",
            "{'batch_size': 170.0, 'dropout_cnn_block_one': 0.38260283166116804, 'dropout_cnn_block_three': 0.3353940170447355, 'dropout_cnn_block_two': 0.35497844860185124, 'dropout_dense_block_one': 0.37514297204840713, 'dropout_dense_block_two': 0.42127082550525313}\n",
            "accuracy=0.9668934345245361\n",
            "{'batch_size': 180.0, 'dropout_cnn_block_one': 0.49912767434113836, 'dropout_cnn_block_three': 0.39438688516765125, 'dropout_cnn_block_two': 0.33342053208566974, 'dropout_dense_block_one': 0.47766794824764974, 'dropout_dense_block_two': 0.3332261868660311}\n",
            "accuracy=0.9272108674049377\n",
            "{'batch_size': 160.0, 'dropout_cnn_block_one': 0.34363518588205944, 'dropout_cnn_block_three': 0.3360383469268981, 'dropout_cnn_block_two': 0.3304603788481811, 'dropout_dense_block_one': 0.5421171598079539, 'dropout_dense_block_two': 0.37854739177866714}\n",
            "accuracy=0.9625850319862366\n",
            "100%|██████████| 30/30 [07:51<00:00, 15.73s/it, best loss: -0.9773242473602295]\n"
          ],
          "name": "stdout"
        }
      ]
    },
    {
      "cell_type": "code",
      "metadata": {
        "id": "Iy-kAdalTeok",
        "colab_type": "code",
        "colab": {}
      },
      "source": [
        ""
      ],
      "execution_count": 0,
      "outputs": []
    }
  ]
}