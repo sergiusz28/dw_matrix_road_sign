{
  "nbformat": 4,
  "nbformat_minor": 0,
  "metadata": {
    "colab": {
      "name": "Day4.ipynb",
      "provenance": [],
      "collapsed_sections": [],
      "mount_file_id": "15Cd0n4X6o0-uPlRV5rPWj_R2h89onnzX",
      "authorship_tag": "ABX9TyNyUt61AKrdXUgaJYd/jMk1",
      "include_colab_link": true
    },
    "kernelspec": {
      "name": "python3",
      "display_name": "Python 3"
    },
    "accelerator": "GPU"
  },
  "cells": [
    {
      "cell_type": "markdown",
      "metadata": {
        "id": "view-in-github",
        "colab_type": "text"
      },
      "source": [
        "<a href=\"https://colab.research.google.com/github/sergiusz28/dw_matrix_road_sign/blob/master/Day4.ipynb\" target=\"_parent\"><img src=\"https://colab.research.google.com/assets/colab-badge.svg\" alt=\"Open In Colab\"/></a>"
      ]
    },
    {
      "cell_type": "code",
      "metadata": {
        "id": "j6np8Z59hjD-",
        "colab_type": "code",
        "colab": {
          "base_uri": "https://localhost:8080/",
          "height": 51
        },
        "outputId": "cf775e65-e9a0-42bb-9766-aec41473302f"
      },
      "source": [
        "import pandas as pd\n",
        "import numpy as np\n",
        "\n",
        "import os\n",
        "import datetime\n",
        "\n",
        "import tensorflow as tf\n",
        "\n",
        "from tensorflow.keras.models import Sequential\n",
        "from tensorflow.keras.layers import Conv2D, MaxPool2D, Dense, Flatten, Dropout\n",
        "from tensorflow.keras.utils import to_categorical\n",
        "\n",
        "from sklearn.metrics import accuracy_score\n",
        "\n",
        "import matplotlib.pyplot as plt\n",
        "from skimage import color, exposure\n",
        "\n",
        "%load_ext tensorboard"
      ],
      "execution_count": 47,
      "outputs": [
        {
          "output_type": "stream",
          "text": [
            "The tensorboard extension is already loaded. To reload it, use:\n",
            "  %reload_ext tensorboard\n"
          ],
          "name": "stdout"
        }
      ]
    },
    {
      "cell_type": "code",
      "metadata": {
        "id": "CyAgqCw6h9kB",
        "colab_type": "code",
        "colab": {
          "base_uri": "https://localhost:8080/",
          "height": 34
        },
        "outputId": "b6b00813-08dc-4734-a889-bac02ee7f121"
      },
      "source": [
        "cd '/content/drive/My Drive/Colab Notebooks/dwmatrix/matrix_three/dw_matrix_road_sign'"
      ],
      "execution_count": 29,
      "outputs": [
        {
          "output_type": "stream",
          "text": [
            "/content/drive/My Drive/Colab Notebooks/dwmatrix/matrix_three/dw_matrix_road_sign\n"
          ],
          "name": "stdout"
        }
      ]
    },
    {
      "cell_type": "code",
      "metadata": {
        "id": "QE4GMVbNh_ZZ",
        "colab_type": "code",
        "colab": {}
      },
      "source": [
        "train = pd.read_pickle('data/train.p')\n",
        "test = pd.read_pickle('data/test.p')\n",
        "\n",
        "x_train, y_train = train['features'], train['labels']\n",
        "x_test, y_test = test['features'], test['labels']"
      ],
      "execution_count": 0,
      "outputs": []
    },
    {
      "cell_type": "code",
      "metadata": {
        "id": "7h-jDBYhiD8h",
        "colab_type": "code",
        "colab": {}
      },
      "source": [
        "if y_train.ndim == 1: y_train = to_categorical(y_train)\n",
        "if y_test.ndim == 1: y_test = to_categorical(y_test)\n",
        "\n",
        "input_shape = x_train.shape[1:]\n",
        "num_classes = y_train.shape[1]"
      ],
      "execution_count": 0,
      "outputs": []
    },
    {
      "cell_type": "code",
      "metadata": {
        "id": "GtACL4j1jB0E",
        "colab_type": "code",
        "colab": {
          "base_uri": "https://localhost:8080/",
          "height": 51
        },
        "outputId": "c6026b07-eb58-45b3-bffb-3def36326330"
      },
      "source": [
        "model = Sequential([\n",
        "  Conv2D(filters=64, kernel_size=(3,3), activation='relu', input_shape=input_shape),\n",
        "\n",
        "  Flatten(),\n",
        "\n",
        "  Dense(num_classes, activation='softmax')\n",
        "])\n",
        "\n",
        "#model.summary()\n",
        "\n",
        "model.compile(loss='categorical_crossentropy', optimizer='Adam', metrics=['accuracy'])\n",
        "model.fit(x_train, y_train)"
      ],
      "execution_count": 32,
      "outputs": [
        {
          "output_type": "stream",
          "text": [
            "1088/1088 [==============================] - 4s 4ms/step - loss: 5.5778 - accuracy: 0.7892\n"
          ],
          "name": "stdout"
        },
        {
          "output_type": "execute_result",
          "data": {
            "text/plain": [
              "<tensorflow.python.keras.callbacks.History at 0x7f81c9c16048>"
            ]
          },
          "metadata": {
            "tags": []
          },
          "execution_count": 32
        }
      ]
    },
    {
      "cell_type": "code",
      "metadata": {
        "id": "_IEFmMDujEfB",
        "colab_type": "code",
        "colab": {}
      },
      "source": [
        "def get_cnn_v1(input_shape, num_classes):\n",
        "  return Sequential([\n",
        "    Conv2D(filters=64, kernel_size=(3,3), activation='relu', input_shape=input_shape),\n",
        "\n",
        "    Flatten(),\n",
        "\n",
        "    Dense(num_classes, activation='softmax')\n",
        "  ])\n",
        "\n",
        "def train_model(model, x_train, y_train, params_fit={}):\n",
        "  model.compile(loss='categorical_crossentropy', optimizer='Adam', metrics=['accuracy'])\n",
        "  \n",
        "  logdir = os.path.join('logs', datetime.datetime.now().strftime('%Y%m%d-%H%M%sS'))\n",
        "  tensorboard_callback = tf.keras.callbacks.TensorBoard(logdir, histogram_freq=1)\n",
        "  \n",
        "  model.fit(x_train,\n",
        "            y_train,\n",
        "            batch_size=params_fit.get('batch_size', 128),\n",
        "            epochs=params_fit.get('epochs', 5),\n",
        "            verbose=params_fit.get('verbose', 1),\n",
        "            validation_data=params_fit.get('validation_data', (x_train, y_train)),\n",
        "            callbacks= [tensorboard_callback]\n",
        "            )\n",
        "  return model"
      ],
      "execution_count": 0,
      "outputs": []
    },
    {
      "cell_type": "code",
      "metadata": {
        "id": "y1nkxgPujH0p",
        "colab_type": "code",
        "colab": {
          "base_uri": "https://localhost:8080/",
          "height": 187
        },
        "outputId": "47f820d8-a05e-45da-9cfa-3f10ec5223c0"
      },
      "source": [
        "model = get_cnn_v1(input_shape, num_classes)\n",
        "model_trained = train_model(model, x_train, y_train)"
      ],
      "execution_count": 34,
      "outputs": [
        {
          "output_type": "stream",
          "text": [
            "Epoch 1/5\n",
            "272/272 [==============================] - 3s 12ms/step - loss: 26.3977 - accuracy: 0.7293 - val_loss: 0.2485 - val_accuracy: 0.9397\n",
            "Epoch 2/5\n",
            "272/272 [==============================] - 3s 11ms/step - loss: 0.2611 - accuracy: 0.9405 - val_loss: 0.1312 - val_accuracy: 0.9683\n",
            "Epoch 3/5\n",
            "272/272 [==============================] - 3s 11ms/step - loss: 0.1694 - accuracy: 0.9605 - val_loss: 0.1152 - val_accuracy: 0.9731\n",
            "Epoch 4/5\n",
            "272/272 [==============================] - 3s 11ms/step - loss: 0.1300 - accuracy: 0.9709 - val_loss: 0.0803 - val_accuracy: 0.9825\n",
            "Epoch 5/5\n",
            "272/272 [==============================] - 3s 11ms/step - loss: 0.1026 - accuracy: 0.9768 - val_loss: 0.0692 - val_accuracy: 0.9875\n"
          ],
          "name": "stdout"
        }
      ]
    },
    {
      "cell_type": "code",
      "metadata": {
        "id": "qY6iML7hkqIY",
        "colab_type": "code",
        "colab": {}
      },
      "source": [
        "df = pd.read_csv('data/signnames.csv')\n",
        "labels_dict = df.to_dict()['b']\n"
      ],
      "execution_count": 0,
      "outputs": []
    },
    {
      "cell_type": "code",
      "metadata": {
        "id": "VSa63ctMjQvX",
        "colab_type": "code",
        "colab": {}
      },
      "source": [
        "def predict(model_trained, x_test, y_test, scoring=accuracy_score):\n",
        "  y_test_norm = np.argmax(y_test, axis=1)\n",
        "\n",
        "  y_pred_prob = model_trained.predict(x_test)\n",
        "  y_pred = np.argmax(y_pred_prob, axis=1)\n",
        "\n",
        "  return scoring(y_test_norm, y_pred)\n"
      ],
      "execution_count": 0,
      "outputs": []
    },
    {
      "cell_type": "code",
      "metadata": {
        "id": "pvEtm6tOsO48",
        "colab_type": "code",
        "colab": {
          "base_uri": "https://localhost:8080/",
          "height": 34
        },
        "outputId": "44f03729-c531-4dce-be40-12cd640ea233"
      },
      "source": [
        "predict(model_trained, x_test, y_test, scoring=accuracy_score)"
      ],
      "execution_count": 51,
      "outputs": [
        {
          "output_type": "execute_result",
          "data": {
            "text/plain": [
              "0.8122448979591836"
            ]
          },
          "metadata": {
            "tags": []
          },
          "execution_count": 51
        }
      ]
    },
    {
      "cell_type": "code",
      "metadata": {
        "id": "Ou3Oft0qoRnf",
        "colab_type": "code",
        "colab": {
          "base_uri": "https://localhost:8080/",
          "height": 283
        },
        "outputId": "6e63a55a-ed5d-4999-8396-b8723c709911"
      },
      "source": [
        "plt.imshow(x_test[400])"
      ],
      "execution_count": 37,
      "outputs": [
        {
          "output_type": "execute_result",
          "data": {
            "text/plain": [
              "<matplotlib.image.AxesImage at 0x7f81c9160f28>"
            ]
          },
          "metadata": {
            "tags": []
          },
          "execution_count": 37
        },
        {
          "output_type": "display_data",
          "data": {
            "image/png": "[encoded data removed]",
            "text/plain": [
              "<Figure size 432x288 with 1 Axes>"
            ]
          },
          "metadata": {
            "tags": []
          }
        }
      ]
    },
    {
      "cell_type": "code",
      "metadata": {
        "id": "GOCZYsfgwwF9",
        "colab_type": "code",
        "colab": {}
      },
      "source": [
        "def train_and_predict(model):\n",
        "  model = get_cnn_v2(input_shape, num_classes)\n",
        "  model_trained = train_model(model, x_train, y_train)\n",
        "  return predict(model_trained, x_test, y_test, scoring=accuracy_score)"
      ],
      "execution_count": 0,
      "outputs": []
    },
    {
      "cell_type": "code",
      "metadata": {
        "id": "QTjLhXs0oV2M",
        "colab_type": "code",
        "colab": {
          "base_uri": "https://localhost:8080/",
          "height": 204
        },
        "outputId": "26939e4f-7155-4bdc-d5ac-f311cb081067"
      },
      "source": [
        "def get_cnn_v2(input_shape, num_classes):\n",
        "  return Sequential([\n",
        "    Conv2D(filters=32, kernel_size=(3,3), activation='relu', input_shape=input_shape),\n",
        "    MaxPool2D(),\n",
        "    Dropout(0.3),\n",
        "\n",
        "    Conv2D(filters=64, kernel_size=(3,3), activation='relu', input_shape=input_shape),\n",
        "    MaxPool2D(),\n",
        "    Dropout(0.3),\n",
        "    \n",
        "    Flatten(),\n",
        "    Dense(1024, activation='relu'),\n",
        "    Dropout(0.3),\n",
        "    Dense(num_classes, activation='softmax')\n",
        "  ])\n",
        "\n",
        "\n",
        "train_and_predict(get_cnn_v2(input_shape, num_classes))"
      ],
      "execution_count": 55,
      "outputs": [
        {
          "output_type": "stream",
          "text": [
            "Epoch 1/5\n",
            "272/272 [==============================] - 3s 11ms/step - loss: 5.9363 - accuracy: 0.2497 - val_loss: 1.3623 - val_accuracy: 0.6763\n",
            "Epoch 2/5\n",
            "272/272 [==============================] - 3s 10ms/step - loss: 1.2138 - accuracy: 0.6435 - val_loss: 0.4034 - val_accuracy: 0.9044\n",
            "Epoch 3/5\n",
            "272/272 [==============================] - 3s 10ms/step - loss: 0.6111 - accuracy: 0.8180 - val_loss: 0.1838 - val_accuracy: 0.9631\n",
            "Epoch 4/5\n",
            "272/272 [==============================] - 3s 10ms/step - loss: 0.3845 - accuracy: 0.8850 - val_loss: 0.0873 - val_accuracy: 0.9818\n",
            "Epoch 5/5\n",
            "272/272 [==============================] - 3s 10ms/step - loss: 0.2874 - accuracy: 0.9143 - val_loss: 0.0592 - val_accuracy: 0.9867\n"
          ],
          "name": "stdout"
        },
        {
          "output_type": "execute_result",
          "data": {
            "text/plain": [
              "0.9290249433106575"
            ]
          },
          "metadata": {
            "tags": []
          },
          "execution_count": 55
        }
      ]
    },
    {
      "cell_type": "code",
      "metadata": {
        "id": "xGVbaKYFoq24",
        "colab_type": "code",
        "colab": {
          "base_uri": "https://localhost:8080/",
          "height": 204
        },
        "outputId": "f9f4a934-f121-4375-dfbd-e05e4eb84e86"
      },
      "source": [
        "def get_cnn_v3(input_shape, num_classes):\n",
        "  return Sequential([\n",
        "    Conv2D(filters=32, kernel_size=(3,3), activation='relu', input_shape=input_shape),\n",
        "    Conv2D(filters=32, kernel_size=(3,3), activation='relu', input_shape=input_shape),\n",
        "    MaxPool2D(),\n",
        "    Dropout(0.3),\n",
        "\n",
        "    Conv2D(filters=64, kernel_size=(3,3), activation='relu', input_shape=input_shape),\n",
        "    Conv2D(filters=64, kernel_size=(3,3), activation='relu', input_shape=input_shape),\n",
        "    MaxPool2D(),\n",
        "    Dropout(0.3),\n",
        "    \n",
        "    Flatten(),\n",
        "    Dense(1024, activation='relu'),\n",
        "    Dropout(0.3),\n",
        "    Dense(num_classes, activation='softmax')\n",
        "  ])\n",
        "\n",
        "\n",
        "train_and_predict(get_cnn_v3(input_shape, num_classes))"
      ],
      "execution_count": 56,
      "outputs": [
        {
          "output_type": "stream",
          "text": [
            "Epoch 1/5\n",
            "272/272 [==============================] - 3s 11ms/step - loss: 4.8554 - accuracy: 0.4241 - val_loss: 0.5907 - val_accuracy: 0.8505\n",
            "Epoch 2/5\n",
            "272/272 [==============================] - 3s 10ms/step - loss: 0.7551 - accuracy: 0.7787 - val_loss: 0.2259 - val_accuracy: 0.9452\n",
            "Epoch 3/5\n",
            "272/272 [==============================] - 3s 10ms/step - loss: 0.4605 - accuracy: 0.8638 - val_loss: 0.1145 - val_accuracy: 0.9769\n",
            "Epoch 4/5\n",
            "272/272 [==============================] - 3s 10ms/step - loss: 0.3264 - accuracy: 0.9043 - val_loss: 0.0926 - val_accuracy: 0.9800\n",
            "Epoch 5/5\n",
            "272/272 [==============================] - 3s 10ms/step - loss: 0.2683 - accuracy: 0.9214 - val_loss: 0.0546 - val_accuracy: 0.9854\n"
          ],
          "name": "stdout"
        },
        {
          "output_type": "execute_result",
          "data": {
            "text/plain": [
              "0.9204081632653062"
            ]
          },
          "metadata": {
            "tags": []
          },
          "execution_count": 56
        }
      ]
    },
    {
      "cell_type": "code",
      "metadata": {
        "id": "V1aax31GpAA1",
        "colab_type": "code",
        "colab": {
          "base_uri": "https://localhost:8080/",
          "height": 204
        },
        "outputId": "c53b42ea-96bf-43fc-c430-c7963008a774"
      },
      "source": [
        "def get_cnn_v4(input_shape, num_classes):\n",
        "  return Sequential([\n",
        "    Conv2D(filters=32, kernel_size=(3,3), activation='relu', input_shape=input_shape),\n",
        "    Conv2D(filters=32, kernel_size=(3,3), activation='relu', padding='same'),\n",
        "    MaxPool2D(),\n",
        "    Dropout(0.3),\n",
        "\n",
        "    Conv2D(filters=64, kernel_size=(3,3), activation='relu', padding='same' ),\n",
        "    Conv2D(filters=64, kernel_size=(3,3), activation='relu'),\n",
        "    MaxPool2D(),\n",
        "    Dropout(0.3),\n",
        "    \n",
        "    Conv2D(filters=64, kernel_size=(3,3), activation='relu', padding='same'),\n",
        "    Conv2D(filters=64, kernel_size=(3,3), activation='relu'),\n",
        "    MaxPool2D(),\n",
        "    Dropout(0.3),\n",
        "    \n",
        "    Flatten(),\n",
        "\n",
        "    Dense(1024, activation='relu'),\n",
        "    Dropout(0.3),\n",
        "\n",
        "    Dense(num_classes, activation='softmax')\n",
        "  ])\n",
        "\n",
        "\n",
        "train_and_predict(get_cnn_v4(input_shape, num_classes))"
      ],
      "execution_count": 59,
      "outputs": [
        {
          "output_type": "stream",
          "text": [
            "Epoch 1/5\n",
            "272/272 [==============================] - 3s 12ms/step - loss: 3.5539 - accuracy: 0.5110 - val_loss: 0.4578 - val_accuracy: 0.8981\n",
            "Epoch 2/5\n",
            "272/272 [==============================] - 3s 10ms/step - loss: 0.5550 - accuracy: 0.8413 - val_loss: 0.1469 - val_accuracy: 0.9720\n",
            "Epoch 3/5\n",
            "272/272 [==============================] - 3s 11ms/step - loss: 0.3414 - accuracy: 0.9001 - val_loss: 0.0853 - val_accuracy: 0.9799\n",
            "Epoch 4/5\n",
            "272/272 [==============================] - 3s 10ms/step - loss: 0.2475 - accuracy: 0.9283 - val_loss: 0.0535 - val_accuracy: 0.9895\n",
            "Epoch 5/5\n",
            "272/272 [==============================] - 3s 11ms/step - loss: 0.2033 - accuracy: 0.9387 - val_loss: 0.0553 - val_accuracy: 0.9863\n"
          ],
          "name": "stdout"
        },
        {
          "output_type": "execute_result",
          "data": {
            "text/plain": [
              "0.9297052154195011"
            ]
          },
          "metadata": {
            "tags": []
          },
          "execution_count": 59
        }
      ]
    },
    {
      "cell_type": "code",
      "metadata": {
        "id": "Gk1m5Kt70ckW",
        "colab_type": "code",
        "colab": {
          "base_uri": "https://localhost:8080/",
          "height": 204
        },
        "outputId": "feacbe6e-c4bd-40b3-fbee-6f916e1a2d46"
      },
      "source": [
        "def get_cnn_v5(input_shape, num_classes):\n",
        "  return Sequential([\n",
        "    Conv2D(filters=32, kernel_size=(3,3), activation='relu', input_shape=input_shape),\n",
        "    Conv2D(filters=32, kernel_size=(3,3), activation='relu', padding='same'),\n",
        "    MaxPool2D(),\n",
        "    Dropout(0.3),\n",
        "\n",
        "    Conv2D(filters=64, kernel_size=(3,3), activation='relu', padding='same' ),\n",
        "    Conv2D(filters=64, kernel_size=(3,3), activation='relu'),\n",
        "    MaxPool2D(),\n",
        "    Dropout(0.3),\n",
        "    \n",
        "    Conv2D(filters=64, kernel_size=(3,3), activation='relu', padding='same'),\n",
        "    Conv2D(filters=64, kernel_size=(3,3), activation='relu'),\n",
        "    MaxPool2D(),\n",
        "    Dropout(0.3),\n",
        "    \n",
        "    Flatten(),\n",
        "    \n",
        "    Dense(1024, activation='relu'),\n",
        "    Dropout(0.3),\n",
        "\n",
        "    Dense(1024, activation='relu'),\n",
        "    Dropout(0.3),\n",
        "\n",
        "    Dense(num_classes, activation='softmax')\n",
        "  ])\n",
        "\n",
        "\n",
        "train_and_predict(get_cnn_v5(input_shape, num_classes))"
      ],
      "execution_count": 61,
      "outputs": [
        {
          "output_type": "stream",
          "text": [
            "Epoch 1/5\n",
            "272/272 [==============================] - 3s 12ms/step - loss: 3.9565 - accuracy: 0.4392 - val_loss: 0.5616 - val_accuracy: 0.8713\n",
            "Epoch 2/5\n",
            "272/272 [==============================] - 3s 11ms/step - loss: 0.6554 - accuracy: 0.8049 - val_loss: 0.2102 - val_accuracy: 0.9489\n",
            "Epoch 3/5\n",
            "272/272 [==============================] - 3s 11ms/step - loss: 0.3737 - accuracy: 0.8867 - val_loss: 0.0993 - val_accuracy: 0.9807\n",
            "Epoch 4/5\n",
            "272/272 [==============================] - 3s 11ms/step - loss: 0.2768 - accuracy: 0.9148 - val_loss: 0.0961 - val_accuracy: 0.9810\n",
            "Epoch 5/5\n",
            "272/272 [==============================] - 3s 11ms/step - loss: 0.2131 - accuracy: 0.9357 - val_loss: 0.0452 - val_accuracy: 0.9915\n"
          ],
          "name": "stdout"
        },
        {
          "output_type": "execute_result",
          "data": {
            "text/plain": [
              "0.9258503401360544"
            ]
          },
          "metadata": {
            "tags": []
          },
          "execution_count": 61
        }
      ]
    },
    {
      "cell_type": "code",
      "metadata": {
        "id": "E5L4ECYl1QKB",
        "colab_type": "code",
        "colab": {}
      },
      "source": [
        "x_train_gray = color.rgb2gray(x_train).reshape(-1,32,32,1)\n",
        "x_test_gray = color.rgb2gray(x_test).reshape(-1,32,32,1)"
      ],
      "execution_count": 0,
      "outputs": []
    },
    {
      "cell_type": "code",
      "metadata": {
        "id": "jn5Lm91S_ikl",
        "colab_type": "code",
        "colab": {
          "base_uri": "https://localhost:8080/",
          "height": 204
        },
        "outputId": "2a22ca07-1168-469f-80c5-3c6c0e114099"
      },
      "source": [
        "model = (get_cnn_v5((32,32,1), num_classes))\n",
        "model_trained = train_model(model,X_train_gray, y_train, params_fit={})\n",
        "predict(model_trained, x_test_gray, y_test)"
      ],
      "execution_count": 71,
      "outputs": [
        {
          "output_type": "stream",
          "text": [
            "Epoch 1/5\n",
            "272/272 [==============================] - 5s 19ms/step - loss: 2.9670 - accuracy: 0.1845 - val_loss: 0.9349 - val_accuracy: 0.7245\n",
            "Epoch 2/5\n",
            "272/272 [==============================] - 5s 18ms/step - loss: 0.6019 - accuracy: 0.8090 - val_loss: 0.1315 - val_accuracy: 0.9599\n",
            "Epoch 3/5\n",
            "272/272 [==============================] - 5s 18ms/step - loss: 0.2470 - accuracy: 0.9201 - val_loss: 0.0574 - val_accuracy: 0.9831\n",
            "Epoch 4/5\n",
            "272/272 [==============================] - 5s 18ms/step - loss: 0.1575 - accuracy: 0.9514 - val_loss: 0.0325 - val_accuracy: 0.9916\n",
            "Epoch 5/5\n",
            "272/272 [==============================] - 5s 18ms/step - loss: 0.1239 - accuracy: 0.9624 - val_loss: 0.0271 - val_accuracy: 0.9916\n"
          ],
          "name": "stdout"
        },
        {
          "output_type": "execute_result",
          "data": {
            "text/plain": [
              "0.9653061224489796"
            ]
          },
          "metadata": {
            "tags": []
          },
          "execution_count": 71
        }
      ]
    },
    {
      "cell_type": "code",
      "metadata": {
        "id": "yZAJ3SmdAiC7",
        "colab_type": "code",
        "colab": {
          "base_uri": "https://localhost:8080/",
          "height": 283
        },
        "outputId": "635c0fd5-a3d7-4ec2-9f92-ce301e66a82b"
      },
      "source": [
        "plt.imshow(color.rgb2gray(x_test[400]), cmap=plt.get_cmap('gray'))"
      ],
      "execution_count": 73,
      "outputs": [
        {
          "output_type": "execute_result",
          "data": {
            "text/plain": [
              "<matplotlib.image.AxesImage at 0x7f81d648b8d0>"
            ]
          },
          "metadata": {
            "tags": []
          },
          "execution_count": 73
        },
        {
          "output_type": "display_data",
          "data": {
            "image/png": "[encoded data removed]",
            "text/plain": [
              "<Figure size 432x288 with 1 Axes>"
            ]
          },
          "metadata": {
            "tags": []
          }
        }
      ]
    },
    {
      "cell_type": "code",
      "metadata": {
        "id": "oHdmbYv1CmK7",
        "colab_type": "code",
        "colab": {}
      },
      "source": [
        ""
      ],
      "execution_count": 0,
      "outputs": []
    }
  ]
}